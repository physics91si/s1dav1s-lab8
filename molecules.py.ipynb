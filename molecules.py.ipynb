{
 "cells": [
  {
   "cell_type": "code",
   "execution_count": 5,
   "metadata": {
    "collapsed": true
   },
   "outputs": [],
   "source": [
    "#Particles\n",
    "\n",
    "import numpy as np\n",
    "\n",
    "class Particle:\n",
    "    \"\"\"Stores information about a particle with mass, position, and velocity.\"\"\"\n",
    "    \n",
    "    def __init__(self, Position, M):\n",
    "        \"\"\"Create a particle with position (numpy array of len 2) and mass.\"\"\"\n",
    "        self.pos = Position   # Sets x position\n",
    "        self.m = M  # Sets mass\n",
    "        # Initial velocity and acceleration set to be zero\n",
    "        self.vel = np.zeros((2,))\n",
    "        self.acc = np.zeros((2,))\n"
   ]
  },
  {
   "cell_type": "code",
   "execution_count": 10,
   "metadata": {
    "collapsed": false
   },
   "outputs": [],
   "source": [
    "import particle\n",
    "class Molecule:\n",
    "    def _init_(self, pos1, pos2, M1, M2, k, L0):\n",
    "        self.k=k\n",
    "        self.p1=Particle(pos1, M1)\n",
    "        self.p2=Particle(pos2, M2)\n",
    "        self.L0=L0\n",
    "    def get_disp1(self):\n",
    "        return p2.Position-p1.Position\n",
    "    def get_force(self):\n",
    "        posVector = get_displ()\n",
    "        dist = math.sqrt(posVector[0]**2 + posVector[1]**2)\n",
    "        return -k*(get_displ()-L0)\n"
   ]
  },
  {
   "cell_type": "code",
   "execution_count": 11,
   "metadata": {
    "collapsed": false
   },
   "outputs": [
    {
     "data": {
      "text/plain": [
       "<particle.Particle instance at 0x109b74560>"
      ]
     },
     "execution_count": 11,
     "metadata": {},
     "output_type": "execute_result"
    }
   ],
   "source": [
    "part=particle.Particle([5,3], 10)\n"
   ]
  },
  {
   "cell_type": "code",
   "execution_count": null,
   "metadata": {
    "collapsed": true
   },
   "outputs": [],
   "source": []
  }
 ],
 "metadata": {
  "kernelspec": {
   "display_name": "Python 2",
   "language": "python",
   "name": "python2"
  },
  "language_info": {
   "codemirror_mode": {
    "name": "ipython",
    "version": 2
   },
   "file_extension": ".py",
   "mimetype": "text/x-python",
   "name": "python",
   "nbconvert_exporter": "python",
   "pygments_lexer": "ipython2",
   "version": "2.7.11"
  }
 },
 "nbformat": 4,
 "nbformat_minor": 0
}
